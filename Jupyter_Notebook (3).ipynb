{
  "metadata": {
    "kernelspec": {
      "name": "python",
      "display_name": "Python (Pyodide)",
      "language": "python"
    },
    "language_info": {
      "codemirror_mode": {
        "name": "python",
        "version": 3
      },
      "file_extension": ".py",
      "mimetype": "text/x-python",
      "name": "python",
      "nbconvert_exporter": "python",
      "pygments_lexer": "ipython3",
      "version": "3.8"
    }
  },
  "nbformat_minor": 4,
  "nbformat": 4,
  "cells": [
    {
      "cell_type": "markdown",
      "source": "<center>\n    <img src=\"https://cf-courses-data.s3.us.cloud-object-storage.appdomain.cloud/IBMDeveloperSkillsNetwork-DS0105EN-SkillsNetwork/labs/Module2/images/SN_web_lightmode.png\" width=\"300\" alt=\"cognitiveclass.ai logo\">\n</center>\n",
      "metadata": {}
    },
    {
      "cell_type": "markdown",
      "source": "#### Add your code below following the instructions given in the course\n",
      "metadata": {}
    },
    {
      "cell_type": "markdown",
      "source": "# Assignment_Coursera #",
      "metadata": {}
    },
    {
      "cell_type": "markdown",
      "source": "**Introduction**",
      "metadata": {}
    },
    {
      "cell_type": "markdown",
      "source": "- Python\n- R\n- SQL",
      "metadata": {}
    },
    {
      "cell_type": "markdown",
      "source": "- Pandas: data manipulation and analysis\n- NumPy: numerical computing\n- Matplotlib: visualization",
      "metadata": {}
    },
    {
      "cell_type": "markdown",
      "source": "| Tool | Type | Use |\r\n|------|------|-----|\r\n| Jupyter Notebook | IDE | Data Analysis |\r\n| TensorFlow | Library | Machine Learning |\r\n",
      "metadata": {}
    },
    {
      "cell_type": "markdown",
      "source": "Arithmetic expressions are fundamental in any programming language, allowing us to perform basic mathematical operations. These operations include addition (`+`), subtraction (`-`), multiplication (`*`), division (`/`), and modulus (`%`), which returns the remainder of a division. For instance, in a data science context, these operations might be used to calculate the sum of values in a dataset, determine the difference between two dates, or even compute statistical measures such as means and standard deviations. Understanding how to use these expressions is crucial for data manipulation and analysis. Below are some simple examples demonstrating these operations.\n",
      "metadata": {}
    },
    {
      "cell_type": "code",
      "source": "print(3 * 4 + 5)",
      "metadata": {
        "trusted": true
      },
      "outputs": [
        {
          "name": "stdout",
          "text": "17\n",
          "output_type": "stream"
        }
      ],
      "execution_count": 4
    },
    {
      "cell_type": "code",
      "source": "minutes = 120\nhours = minutes / 60\nprint(f\"{minutes} minutes is {hours} hours\")\n",
      "metadata": {
        "trusted": true
      },
      "outputs": [
        {
          "name": "stdout",
          "text": "120 minutes is 2.0 hours\n",
          "output_type": "stream"
        }
      ],
      "execution_count": 2
    },
    {
      "cell_type": "markdown",
      "source": "1. **Familiarize with Data Science Tools**: Introduce various tools and libraries that are essential for data science, enabling practical experience with some of them.\r\n   \r\n2. **Understand Basic Data Manipulation**: Learn how to perform basic data manipulation tasks using popular data science languages like Python. This includes operations such as sorting, filtering, and aggregating data.\r\n   \r\n3. **Explore Data Visualization**: Gain an understanding of how to visualize data effectively using libraries such as Matplotlib and Seaborn. Visualization is key to interpreting data and conveying findings clearly.\r\n   \r\n4. **Apply Mathematical Operations**: Demonstrate the application of arithmetic expressions in data analysis tasks, showing how they can be used to compute new data points or transform existing datasets.\r\n   \r\n5. **Real-world Application**: Connect the concepts learned to real-world data science problems, showing how they can be applied to derive insights from data.",
      "metadata": {}
    },
    {
      "cell_type": "markdown",
      "source": "Author: Firstname Lastname",
      "metadata": {}
    },
    {
      "cell_type": "code",
      "source": "",
      "metadata": {
        "trusted": true
      },
      "outputs": [],
      "execution_count": null
    }
  ]
}